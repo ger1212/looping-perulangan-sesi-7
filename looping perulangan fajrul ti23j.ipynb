{
 "cells": [
  {
   "cell_type": "code",
   "execution_count": 1,
   "id": "c707049d",
   "metadata": {},
   "outputs": [
    {
     "name": "stdout",
     "output_type": "stream",
     "text": [
      "1 2 3 4 5 6 7 8 9 10 "
     ]
    }
   ],
   "source": [
    "#mencetak angka 1 - 10\n",
    "\n",
    "for i in range(1,11):\n",
    "    print(i, end=\" \")"
   ]
  },
  {
   "cell_type": "code",
   "execution_count": 2,
   "id": "c5c17c06",
   "metadata": {},
   "outputs": [
    {
     "name": "stdout",
     "output_type": "stream",
     "text": [
      "10 20 30 40 50 60 70 80 90 100 "
     ]
    }
   ],
   "source": [
    "#mencetak angka 10 20 30 --- 100\n",
    "for i in range(1,11):\n",
    "    print(i * 10, end=\" \")"
   ]
  },
  {
   "cell_type": "code",
   "execution_count": 3,
   "id": "95150ad7",
   "metadata": {},
   "outputs": [
    {
     "name": "stdout",
     "output_type": "stream",
     "text": [
      "10 20 30 40 50 60 70 80 90 100 "
     ]
    }
   ],
   "source": [
    "#mencetak angka 10 20 30 --- 100\n",
    "for i in range (10,101,10):\n",
    "    print(i, end= \" \")"
   ]
  },
  {
   "cell_type": "code",
   "execution_count": 4,
   "id": "feed89c6",
   "metadata": {},
   "outputs": [
    {
     "name": "stdout",
     "output_type": "stream",
     "text": [
      "10 9 8 7 6 5 4 3 2 1 "
     ]
    }
   ],
   "source": [
    "#mencetak angka 10 9 8 7 ... 1\n",
    "for i in range(1,11):\n",
    "    print(11 - i, end= \" \")"
   ]
  },
  {
   "cell_type": "code",
   "execution_count": 5,
   "id": "ee226fc8",
   "metadata": {},
   "outputs": [
    {
     "name": "stdout",
     "output_type": "stream",
     "text": [
      "10 9 8 7 6 5 4 3 2 1 "
     ]
    }
   ],
   "source": [
    "for i in range(10,0,-1):\n",
    "    print(i, end=\" \")"
   ]
  },
  {
   "cell_type": "code",
   "execution_count": 13,
   "id": "b55cb81f",
   "metadata": {},
   "outputs": [
    {
     "name": "stdout",
     "output_type": "stream",
     "text": [
      "1 -2 3 -4 5 -6 7 -8 9 -10 "
     ]
    }
   ],
   "source": [
    "#mencetak angka 1 -2  3  -4  5 -6 ... 10 \n",
    "sign = -1\n",
    "for i in range (1,11):\n",
    "    sign *= -1\n",
    "    print(sign * i, end = \" \")\n",
    "    "
   ]
  },
  {
   "cell_type": "code",
   "execution_count": 14,
   "id": "8aa43747",
   "metadata": {},
   "outputs": [
    {
     "name": "stdout",
     "output_type": "stream",
     "text": [
      "isikan bilangan: 4\n",
      "1\n",
      "2\n",
      "3\n",
      "4\n"
     ]
    }
   ],
   "source": [
    "#mencari bilanga faktorial \n",
    "# input = 3, output = 3 * 2 * 1 = 6\n",
    "# input = 4, output = 4 * 3 * 2 * 1 = 24\n",
    "\n",
    "bil = int(input('isikan bilangan: '))\n",
    "for i in range(1, bil+1):    \n",
    "    print(i)"
   ]
  },
  {
   "cell_type": "code",
   "execution_count": 21,
   "id": "8a923077",
   "metadata": {},
   "outputs": [
    {
     "name": "stdout",
     "output_type": "stream",
     "text": [
      "isikan bilangan: 4\n",
      "4! adalah 24\n",
      "4 * 3 * 2 * 1 *  = 24\n"
     ]
    }
   ],
   "source": [
    "#mencari bilanga faktorial \n",
    "# input = 3, output = 3 * 2 * 1 = 6\n",
    "# input = 4, output = 4 * 3 * 2 * 1 = 24\n",
    "\n",
    "bil = int(input('isikan bilangan: '))\n",
    "\n",
    "hasil = 1\n",
    "label = \"\"\n",
    "for i in range(1, bil+1):\n",
    "    hasil = hasil * i\n",
    "    label = label + str((bil +1)-i) + \" * \"\n",
    "print(f\"{bil}! adalah {hasil}\")    \n",
    "print(f\"{label} = {hasil}\")\n",
    "    \n",
    "    "
   ]
  },
  {
   "cell_type": "code",
   "execution_count": 24,
   "id": "409aaa54",
   "metadata": {},
   "outputs": [
    {
     "name": "stdout",
     "output_type": "stream",
     "text": [
      "isikan bilangan: 4\n",
      "4! adalah 24\n",
      "4 * 3 * 2 * 1 = 24\n"
     ]
    }
   ],
   "source": [
    "#mencari bilanga faktorial \n",
    "# input = 3, output = 3 * 2 * 1 = 6\n",
    "# input = 4, output = 4 * 3 * 2 * 1 = 24\n",
    "\n",
    "bil = int(input('isikan bilangan: '))\n",
    "\n",
    "hasil = 1\n",
    "label = \"\"\n",
    "for i in range(1, bil+1):\n",
    "    hasil = hasil * i\n",
    "    if i < bil:\n",
    "        label = label + str((bil +1)-i) + \" * \"\n",
    "    else:\n",
    "        label = label + str((bil +1)-i) \n",
    "print(f\"{bil}! adalah {hasil}\")    \n",
    "print(f\"{label} = {hasil}\")\n",
    "    "
   ]
  },
  {
   "cell_type": "code",
   "execution_count": 28,
   "id": "c8c33ef2",
   "metadata": {},
   "outputs": [
    {
     "name": "stdout",
     "output_type": "stream",
     "text": [
      "isikan bilangan : 6\n",
      "isikan pangkat : 2\n",
      "6 pangkat 2 adalah 36\n"
     ]
    }
   ],
   "source": [
    "#mencari bilangan berpangkat\n",
    "\n",
    "bil = int(input(\"isikan bilangan : \"))\n",
    "pangkat = int(input(\"isikan pangkat : \"))\n",
    "label = \"\"\n",
    "hasil = 1\n",
    "for i in  range(1, pangkat+1):\n",
    "    hasil *= bil\n",
    "print (f\"{bil} pangkat {pangkat} adalah {hasil}\")"
   ]
  },
  {
   "cell_type": "code",
   "execution_count": 35,
   "id": "518f2ca2",
   "metadata": {},
   "outputs": [
    {
     "name": "stdout",
     "output_type": "stream",
     "text": [
      "isikan bilangan:4\n",
      "sisa =3, maka bilangan prima\n"
     ]
    }
   ],
   "source": [
    "#mencari bilangan prima atau bukan\n",
    "#bilangan ima adalah bilangan yang hanya habis dibagi dengan 1 dan bilangan itu sendiri => 2 faktor\n",
    "#hanya habis dibagi dengan 1 dan bilangan itu sendiri\n",
    "\n",
    "kondisi = \"\"\n",
    "bil = int( input(\"isikan bilangan:\"))\n",
    "jumlah = 0\n",
    "for i in  range (1, bil + 1):\n",
    "        sisa = bil % i\n",
    "        if sisa == 0:\n",
    "            jumlah += 1\n",
    "        if jumlah == 2:\n",
    "            kondisi = \"bilangan prima\"\n",
    "        else:\n",
    "            kondisi = \"bilangan prima\"\n",
    "print(f\"sisa ={jumlah}, maka {kondisi}\")\n"
   ]
  },
  {
   "cell_type": "code",
   "execution_count": 36,
   "id": "aa647db2",
   "metadata": {},
   "outputs": [
    {
     "name": "stdout",
     "output_type": "stream",
     "text": [
      "1 2 3 4 5 \n"
     ]
    }
   ],
   "source": [
    "#break\n",
    "\n",
    "for i in range(1,100):\n",
    "    print(i, end = \" \")\n",
    "    if i==5:\n",
    "        break\n",
    "print()\n",
    "\n",
    "for j in range(1,10):\n",
    "    if j == 5:\n",
    "        continue\n",
    "        print(J,end = \" \")"
   ]
  },
  {
   "cell_type": "code",
   "execution_count": 42,
   "id": "46f62207",
   "metadata": {},
   "outputs": [
    {
     "name": "stdout",
     "output_type": "stream",
     "text": [
      "isikan kalimat: menyala abangkuh\n",
      "jumlah huruf a:4\n",
      "jumlah huruf i:0\n",
      "jumlah huruf u:1\n",
      "jumlah huruf e:0\n",
      "jumlah huruf o:1\n",
      "jumlah huruf vokal : 6\n"
     ]
    }
   ],
   "source": [
    "#looping untuk string, menghitung huruf vokal a=?, u=?, e=?, o=?\n",
    "kalimat = input(\"isikan kalimat: \")\n",
    "\n",
    "vokal_a = 0\n",
    "vokal_i = 0\n",
    "vokal_u = 0\n",
    "vokal_e = 0\n",
    "vokal_o = 0\n",
    "\n",
    "for i in kalimat:\n",
    "    if i == 'a':\n",
    "        vokal_a += 1\n",
    "    elif i == 'a:\n",
    "        vokal_i += 1\n",
    "    elif i == 'i\n",
    "        vokal_e+= 1\n",
    "    elif i == 'e:\n",
    "        vokal_ob 1   \n",
    "    elif i == 'o:\n",
    "        vokal_o += 1    \n",
    "        \n",
    "print(f\"jumlah huruf a:{vokal_a}\")      \n",
    "print(f\"jumlah huruf i:{vokal_i}\")          \n",
    "print(f\"jumlah huruf u:{vokal_u}\")  \n",
    "print(f\"jumlah huruf e:{vokal_e}\")  \n",
    "print(f\"jumlah huruf o:{vokal_o}\")  \n",
    "\n",
    "total = vokal_a + vokal_i + vokal_u + vokal_e + vokal_o\n",
    "print(f\"jumlah huruf vokal : {total}\")"
   ]
  },
  {
   "cell_type": "code",
   "execution_count": 58,
   "id": "fd387233",
   "metadata": {},
   "outputs": [
    {
     "name": "stdout",
     "output_type": "stream",
     "text": [
      "isikan kalimat:r\n",
      "palindrome\n",
      "apakah mau mengulang program(y/t)?:g\n",
      "apakah mau mengulang program(y/t)?:y\n",
      "isikan kalimat:t\n",
      "palindrome\n",
      "apakah mau mengulang program(y/t)?:y\n",
      "isikan kalimat:katak nbejir\n",
      "bukan palindrome\n",
      "apakah mau mengulang program(y/t)?:t\n"
     ]
    }
   ],
   "source": [
    "#kalimat palindrome atau bukan \n",
    "#palindrome adalah kalimat yang dibaca dari kiri ke kanan == kanan ke kiri\n",
    "#katak => palindrome\n",
    "#kasur rusak \n",
    "ulang = \"y\"\n",
    "while(ulang==\"y\"):\n",
    "    kalimat = input ('isikan kalimat:')\n",
    "    panjang = len(kalimat)\n",
    "    keterangan = \"palindrome\"\n",
    "    for i in range(0,panjang):\n",
    "            kika = kalimat [i].lower()\n",
    "            kaki = kalimat[panjang - i-1].lower()\n",
    "            if kika != kaki:\n",
    "                keterangan = \"bukan palindrome\"\n",
    "                break \n",
    "\n",
    "    print(f\"{keterangan}\")\n",
    "    jawab =\"\"\n",
    "    while(jawab!=\"y\" and jawab !=\"t\"):\n",
    "        jawab = input(\"apakah mau mengulang program(y/t)?:\")\n",
    "    ulang = jawab"
   ]
  },
  {
   "cell_type": "code",
   "execution_count": 59,
   "id": "2ecbf7e4",
   "metadata": {},
   "outputs": [
    {
     "ename": "IndentationError",
     "evalue": "expected an indented block (2124460978.py, line 2)",
     "output_type": "error",
     "traceback": [
      "\u001b[1;36m  Input \u001b[1;32mIn [59]\u001b[1;36m\u001b[0m\n\u001b[1;33m    for i in range(1,5):\u001b[0m\n\u001b[1;37m                        ^\u001b[0m\n\u001b[1;31mIndentationError\u001b[0m\u001b[1;31m:\u001b[0m expected an indented block\n"
     ]
    }
   ],
   "source": [
    "#nested for\n",
    "for i in range(1,5):\n",
    "    for j in range(1,5):\n",
    "        print(f\"i:{i} dan j:{j})"
   ]
  },
  {
   "cell_type": "code",
   "execution_count": null,
   "id": "446cb6d5",
   "metadata": {},
   "outputs": [],
   "source": []
  }
 ],
 "metadata": {
  "kernelspec": {
   "display_name": "Python 3 (ipykernel)",
   "language": "python",
   "name": "python3"
  },
  "language_info": {
   "codemirror_mode": {
    "name": "ipython",
    "version": 3
   },
   "file_extension": ".py",
   "mimetype": "text/x-python",
   "name": "python",
   "nbconvert_exporter": "python",
   "pygments_lexer": "ipython3",
   "version": "3.9.12"
  }
 },
 "nbformat": 4,
 "nbformat_minor": 5
}
